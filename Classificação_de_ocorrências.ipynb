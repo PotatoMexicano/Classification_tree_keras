{
  "nbformat": 4,
  "nbformat_minor": 0,
  "metadata": {
    "colab": {
      "name": "Classificação de ocorrências.ipynb",
      "provenance": [],
      "collapsed_sections": [],
      "authorship_tag": "ABX9TyOiqXObgG9kPJibmPxLUjxo",
      "include_colab_link": true
    },
    "kernelspec": {
      "name": "python3",
      "display_name": "Python 3"
    },
    "language_info": {
      "name": "python"
    }
  },
  "cells": [
    {
      "cell_type": "markdown",
      "metadata": {
        "id": "view-in-github",
        "colab_type": "text"
      },
      "source": [
        "<a href=\"https://colab.research.google.com/github/PotatoMexicano/Classification_tree_keras/blob/master/Classifica%C3%A7%C3%A3o_de_ocorr%C3%AAncias.ipynb\" target=\"_parent\"><img src=\"https://colab.research.google.com/assets/colab-badge.svg\" alt=\"Open In Colab\"/></a>"
      ]
    },
    {
      "cell_type": "code",
      "execution_count": null,
      "metadata": {
        "id": "tAwEtcn6ZNgJ"
      },
      "outputs": [],
      "source": [
        "import numpy as np\n",
        "from keras.models import Sequential\n",
        "from keras.layers import Dense\n",
        "from sklearn.model_selection import train_test_split\n",
        "import keras\n",
        "from matplotlib import pyplot as plt"
      ]
    },
    {
      "cell_type": "code",
      "source": [
        "valores_a = np.asarray([1,2,3]) #idade\n",
        "valores_b = np.asarray([1,2,3]) #ocorrencia\n",
        "valores_c = np.asarray([1,2,3]) #prioridade\n",
        "\n",
        "labels = ['IDADE','OCORRENCIA','PRIORIDADE']\n",
        "\n",
        "matrix = []\n",
        "\n",
        "for val_a in valores_a:\n",
        "  for val_b in valores_b:\n",
        "    for val_c in valores_c:\n",
        "      matrix.append([val_a, val_b, val_c])\n",
        "\n",
        "matrix = np.asarray(matrix)\n",
        "print(matrix.shape)"
      ],
      "metadata": {
        "colab": {
          "base_uri": "https://localhost:8080/"
        },
        "id": "Gn5dOgmldzIT",
        "outputId": "08c4513e-6eb7-4a7c-f940-b9192b0d3e55"
      },
      "execution_count": null,
      "outputs": [
        {
          "output_type": "stream",
          "name": "stdout",
          "text": [
            "(27, 3)\n"
          ]
        }
      ]
    },
    {
      "cell_type": "code",
      "source": [
        "resultados = np.array([[1],[1],[1],[1],[1],[1],[1],[1],[1],[1],[0],[1],[0],[0],[0],[0],[0],[1],[1],[1],[1],[0],[0],[0],[0],[0],[0]])\n",
        "resultados.shape"
      ],
      "metadata": {
        "colab": {
          "base_uri": "https://localhost:8080/"
        },
        "id": "9DFb230gegUA",
        "outputId": "682bc81c-270f-46b2-dfbe-fc4d7ab59a5b"
      },
      "execution_count": null,
      "outputs": [
        {
          "output_type": "execute_result",
          "data": {
            "text/plain": [
              "(27, 1)"
            ]
          },
          "metadata": {},
          "execution_count": 736
        }
      ]
    },
    {
      "cell_type": "code",
      "source": [
        "x_train, x_test, y_train, y_test = train_test_split(matrix, resultados, test_size=0.2)\n",
        "\n",
        "#x_train = matrix\n",
        "#y_train = resultados"
      ],
      "metadata": {
        "id": "lzqIlOwuhRH3"
      },
      "execution_count": null,
      "outputs": []
    },
    {
      "cell_type": "code",
      "source": [
        "x_train.shape"
      ],
      "metadata": {
        "colab": {
          "base_uri": "https://localhost:8080/"
        },
        "id": "_7OWClj8h3qW",
        "outputId": "8a04a126-5990-42d8-c06f-c8c59964fb1e"
      },
      "execution_count": null,
      "outputs": [
        {
          "output_type": "execute_result",
          "data": {
            "text/plain": [
              "(21, 3)"
            ]
          },
          "metadata": {},
          "execution_count": 738
        }
      ]
    },
    {
      "cell_type": "code",
      "source": [
        "model = Sequential()\n",
        "model.add(Dense(12, input_dim=3, activation='relu'))\n",
        "model.add(Dense(14, activation='relu'))\n",
        "model.add(Dense(12, activation='relu'))\n",
        "model.add(Dense(6, activation='relu'))\n",
        "model.add(Dense(1, activation='sigmoid'))"
      ],
      "metadata": {
        "id": "xg6kbsh5gWDp"
      },
      "execution_count": null,
      "outputs": []
    },
    {
      "cell_type": "code",
      "source": [
        "model.compile(optimizer='adam', loss='binary_crossentropy', metrics=['acc'])"
      ],
      "metadata": {
        "id": "DTxe1edug_7F"
      },
      "execution_count": null,
      "outputs": []
    },
    {
      "cell_type": "code",
      "source": [
        "history = model.fit(x_train, y_train, epochs=600, verbose=0, batch_size=2)\n",
        "#model.train_on_batch(x_test, y_test, sample_weight=None, class_weight=None)"
      ],
      "metadata": {
        "id": "oFwYDY-ahBUn"
      },
      "execution_count": null,
      "outputs": []
    },
    {
      "cell_type": "code",
      "source": [
        "_, accuracy = model.evaluate(x_test, y_test)\n",
        "#_, accuracy = model.evaluate(x_train, y_train)\n",
        "print('Accuracy: %.2f' % (accuracy*100))"
      ],
      "metadata": {
        "colab": {
          "base_uri": "https://localhost:8080/"
        },
        "id": "JbG72yRwjEdI",
        "outputId": "e6323bc6-1a37-4862-caab-8a01cdb0cf7a"
      },
      "execution_count": null,
      "outputs": [
        {
          "output_type": "stream",
          "name": "stdout",
          "text": [
            "1/1 [==============================] - 0s 146ms/step - loss: 1.4510e-04 - acc: 1.0000\n",
            "Accuracy: 100.00\n"
          ]
        }
      ]
    },
    {
      "cell_type": "code",
      "source": [
        "predictions = model.predict( np.asmatrix( [2,3,3] ) )\n",
        "class_names = ['NÃO','SIM']\n",
        "print(int(np.rint(predictions[0][0])))\n",
        "print(class_names[int(np.rint(predictions[0][0]))])"
      ],
      "metadata": {
        "colab": {
          "base_uri": "https://localhost:8080/"
        },
        "id": "LIsg3NQIkYK2",
        "outputId": "0f9d1541-f075-4ee7-d085-e1c0866e6c9f"
      },
      "execution_count": null,
      "outputs": [
        {
          "output_type": "stream",
          "name": "stdout",
          "text": [
            "1\n",
            "SIM\n"
          ]
        }
      ]
    },
    {
      "cell_type": "code",
      "source": [
        "plt.plot(history.history['acc'])\n",
        "plt.plot(history.history['loss'])\n",
        "plt.title('model accuracy')\n",
        "plt.ylabel('accuracy')\n",
        "plt.xlabel('epoch')\n",
        "plt.legend(['train', 'loss'], loc='upper left')\n",
        "plt.show()"
      ],
      "metadata": {
        "colab": {
          "base_uri": "https://localhost:8080/",
          "height": 295
        },
        "id": "9qPN1HD2xGHN",
        "outputId": "cf31ef9e-d9f7-4949-8bad-d7a643d9710d"
      },
      "execution_count": null,
      "outputs": [
        {
          "output_type": "display_data",
          "data": {
            "text/plain": [
              "<Figure size 432x288 with 1 Axes>"
            ],
            "image/png": "[encoded data removed]"
          },
          "metadata": {
            "needs_background": "light"
          }
        }
      ]
    },
    {
      "cell_type": "markdown",
      "source": [
        "![image.png](data:image/png;base64,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)"
      ],
      "metadata": {
        "id": "VPnkCDBZxh0F"
      }
    },
    {
      "cell_type": "markdown",
      "source": [
        "**MATRIZ DE DECISÃO USANDO ARVORE**"
      ],
      "metadata": {
        "id": "r5K23omd17DE"
      }
    },
    {
      "cell_type": "code",
      "source": [
        "from sklearn import tree\n",
        "#!apt-get install graphviz\n",
        "#!pip install dtreeviz\n",
        "from IPython.display import display\n",
        "import graphviz"
      ],
      "metadata": {
        "id": "-hw93AyG15hJ"
      },
      "execution_count": null,
      "outputs": []
    },
    {
      "cell_type": "code",
      "source": [
        "model_tree = tree.DecisionTreeClassifier(criterion=\"entropy\")\n",
        "model_tree.fit(x_train, y_train)"
      ],
      "metadata": {
        "colab": {
          "base_uri": "https://localhost:8080/"
        },
        "id": "j3pO9Cgr2A4Z",
        "outputId": "99d209b0-b619-4855-840e-9f656399a933"
      },
      "execution_count": null,
      "outputs": [
        {
          "output_type": "execute_result",
          "data": {
            "text/plain": [
              "DecisionTreeClassifier(criterion='entropy')"
            ]
          },
          "metadata": {},
          "execution_count": 746
        }
      ]
    },
    {
      "cell_type": "code",
      "source": [
        "y_pred = model_tree.predict(x_train)\n",
        "display(graphviz.Source(tree.export_graphviz(model_tree, feature_names=labels, class_names=class_names )))"
      ],
      "metadata": {
        "colab": {
          "base_uri": "https://localhost:8080/",
          "height": 757
        },
        "id": "k5isCydf2VyA",
        "outputId": "e31b1fd9-08e3-4e14-df1b-a427b5d92b16"
      },
      "execution_count": null,
      "outputs": [
        {
          "output_type": "display_data",
          "data": {
            "text/plain": [
              "<graphviz.files.Source at 0x7fb835c4ef50>"
            ],
            "image/svg+xml": "<?xml version=\"1.0\" encoding=\"UTF-8\" standalone=\"no\"?>\n<!DOCTYPE svg PUBLIC \"-//W3C//DTD SVG 1.1//EN\"\n \"http://www.w3.org/Graphics/SVG/1.1/DTD/svg11.dtd\">\n<!-- Generated by graphviz version 2.40.1 (20161225.0304)\n -->\n<!-- Title: Tree Pages: 1 -->\n<svg width=\"595pt\" height=\"552pt\"\n viewBox=\"0.00 0.00 595.00 552.00\" xmlns=\"http://www.w3.org/2000/svg\" xmlns:xlink=\"http://www.w3.org/1999/xlink\">\n<g id=\"graph0\" class=\"graph\" transform=\"scale(1 1) rotate(0) translate(4 548)\">\n<title>Tree</title>\n<polygon fill=\"#ffffff\" stroke=\"transparent\" points=\"-4,4 -4,-548 591,-548 591,4 -4,4\"/>\n<!-- 0 -->\n<g id=\"node1\" class=\"node\">\n<title>0</title>\n<polygon fill=\"none\" stroke=\"#000000\" points=\"257.5,-544 139.5,-544 139.5,-461 257.5,-461 257.5,-544\"/>\n<text text-anchor=\"middle\" x=\"198.5\" y=\"-528.8\" font-family=\"Helvetica,sans-Serif\" font-size=\"14.00\" fill=\"#000000\">IDADE &lt;= 1.5</text>\n<text text-anchor=\"middle\" x=\"198.5\" y=\"-513.8\" font-family=\"Helvetica,sans-Serif\" font-size=\"14.00\" fill=\"#000000\">entropy = 0.985</text>\n<text text-anchor=\"middle\" x=\"198.5\" y=\"-498.8\" font-family=\"Helvetica,sans-Serif\" font-size=\"14.00\" fill=\"#000000\">samples = 21</text>\n<text text-anchor=\"middle\" x=\"198.5\" y=\"-483.8\" font-family=\"Helvetica,sans-Serif\" font-size=\"14.00\" fill=\"#000000\">value = [9, 12]</text>\n<text text-anchor=\"middle\" x=\"198.5\" y=\"-468.8\" font-family=\"Helvetica,sans-Serif\" font-size=\"14.00\" fill=\"#000000\">class = SIM</text>\n</g>\n<!-- 1 -->\n<g id=\"node2\" class=\"node\">\n<title>1</title>\n<polygon fill=\"none\" stroke=\"#000000\" points=\"175,-417.5 74,-417.5 74,-349.5 175,-349.5 175,-417.5\"/>\n<text text-anchor=\"middle\" x=\"124.5\" y=\"-402.3\" font-family=\"Helvetica,sans-Serif\" font-size=\"14.00\" fill=\"#000000\">entropy = 0.0</text>\n<text text-anchor=\"middle\" x=\"124.5\" y=\"-387.3\" font-family=\"Helvetica,sans-Serif\" font-size=\"14.00\" fill=\"#000000\">samples = 7</text>\n<text text-anchor=\"middle\" x=\"124.5\" y=\"-372.3\" font-family=\"Helvetica,sans-Serif\" font-size=\"14.00\" fill=\"#000000\">value = [0, 7]</text>\n<text text-anchor=\"middle\" x=\"124.5\" y=\"-357.3\" font-family=\"Helvetica,sans-Serif\" font-size=\"14.00\" fill=\"#000000\">class = SIM</text>\n</g>\n<!-- 0&#45;&gt;1 -->\n<g id=\"edge1\" class=\"edge\">\n<title>0&#45;&gt;1</title>\n<path fill=\"none\" stroke=\"#000000\" d=\"M172.6184,-460.8796C165.7121,-449.7735 158.2361,-437.7513 151.2825,-426.5691\"/>\n<polygon fill=\"#000000\" stroke=\"#000000\" points=\"154.0917,-424.4587 145.8387,-417.8149 148.1473,-428.1552 154.0917,-424.4587\"/>\n<text text-anchor=\"middle\" x=\"140.1619\" y=\"-438.4619\" font-family=\"Helvetica,sans-Serif\" font-size=\"14.00\" fill=\"#000000\">True</text>\n</g>\n<!-- 2 -->\n<g id=\"node3\" class=\"node\">\n<title>2</title>\n<polygon fill=\"none\" stroke=\"#000000\" points=\"351.5,-425 193.5,-425 193.5,-342 351.5,-342 351.5,-425\"/>\n<text text-anchor=\"middle\" x=\"272.5\" y=\"-409.8\" font-family=\"Helvetica,sans-Serif\" font-size=\"14.00\" fill=\"#000000\">OCORRENCIA &lt;= 1.5</text>\n<text text-anchor=\"middle\" x=\"272.5\" y=\"-394.8\" font-family=\"Helvetica,sans-Serif\" font-size=\"14.00\" fill=\"#000000\">entropy = 0.94</text>\n<text text-anchor=\"middle\" x=\"272.5\" y=\"-379.8\" font-family=\"Helvetica,sans-Serif\" font-size=\"14.00\" fill=\"#000000\">samples = 14</text>\n<text text-anchor=\"middle\" x=\"272.5\" y=\"-364.8\" font-family=\"Helvetica,sans-Serif\" font-size=\"14.00\" fill=\"#000000\">value = [9, 5]</text>\n<text text-anchor=\"middle\" x=\"272.5\" y=\"-349.8\" font-family=\"Helvetica,sans-Serif\" font-size=\"14.00\" fill=\"#000000\">class = NÃO</text>\n</g>\n<!-- 0&#45;&gt;2 -->\n<g id=\"edge2\" class=\"edge\">\n<title>0&#45;&gt;2</title>\n<path fill=\"none\" stroke=\"#000000\" d=\"M224.3816,-460.8796C229.8142,-452.1434 235.5992,-442.8404 241.2053,-433.8253\"/>\n<polygon fill=\"#000000\" stroke=\"#000000\" points=\"244.1993,-435.6383 246.5079,-425.2981 238.2549,-431.9418 244.1993,-435.6383\"/>\n<text text-anchor=\"middle\" x=\"252.1847\" y=\"-445.945\" font-family=\"Helvetica,sans-Serif\" font-size=\"14.00\" fill=\"#000000\">False</text>\n</g>\n<!-- 3 -->\n<g id=\"node4\" class=\"node\">\n<title>3</title>\n<polygon fill=\"none\" stroke=\"#000000\" points=\"262,-306 111,-306 111,-223 262,-223 262,-306\"/>\n<text text-anchor=\"middle\" x=\"186.5\" y=\"-290.8\" font-family=\"Helvetica,sans-Serif\" font-size=\"14.00\" fill=\"#000000\">PRIORIDADE &lt;= 1.5</text>\n<text text-anchor=\"middle\" x=\"186.5\" y=\"-275.8\" font-family=\"Helvetica,sans-Serif\" font-size=\"14.00\" fill=\"#000000\">entropy = 0.722</text>\n<text text-anchor=\"middle\" x=\"186.5\" y=\"-260.8\" font-family=\"Helvetica,sans-Serif\" font-size=\"14.00\" fill=\"#000000\">samples = 5</text>\n<text text-anchor=\"middle\" x=\"186.5\" y=\"-245.8\" font-family=\"Helvetica,sans-Serif\" font-size=\"14.00\" fill=\"#000000\">value = [1, 4]</text>\n<text text-anchor=\"middle\" x=\"186.5\" y=\"-230.8\" font-family=\"Helvetica,sans-Serif\" font-size=\"14.00\" fill=\"#000000\">class = SIM</text>\n</g>\n<!-- 2&#45;&gt;3 -->\n<g id=\"edge3\" class=\"edge\">\n<title>2&#45;&gt;3</title>\n<path fill=\"none\" stroke=\"#000000\" d=\"M242.4214,-341.8796C236.0428,-333.0534 229.246,-323.6485 222.6681,-314.5466\"/>\n<polygon fill=\"#000000\" stroke=\"#000000\" points=\"225.4012,-312.353 216.707,-306.2981 219.7277,-316.4532 225.4012,-312.353\"/>\n</g>\n<!-- 8 -->\n<g id=\"node9\" class=\"node\">\n<title>8</title>\n<polygon fill=\"none\" stroke=\"#000000\" points=\"438.5,-306 280.5,-306 280.5,-223 438.5,-223 438.5,-306\"/>\n<text text-anchor=\"middle\" x=\"359.5\" y=\"-290.8\" font-family=\"Helvetica,sans-Serif\" font-size=\"14.00\" fill=\"#000000\">OCORRENCIA &lt;= 2.5</text>\n<text text-anchor=\"middle\" x=\"359.5\" y=\"-275.8\" font-family=\"Helvetica,sans-Serif\" font-size=\"14.00\" fill=\"#000000\">entropy = 0.503</text>\n<text text-anchor=\"middle\" x=\"359.5\" y=\"-260.8\" font-family=\"Helvetica,sans-Serif\" font-size=\"14.00\" fill=\"#000000\">samples = 9</text>\n<text text-anchor=\"middle\" x=\"359.5\" y=\"-245.8\" font-family=\"Helvetica,sans-Serif\" font-size=\"14.00\" fill=\"#000000\">value = [8, 1]</text>\n<text text-anchor=\"middle\" x=\"359.5\" y=\"-230.8\" font-family=\"Helvetica,sans-Serif\" font-size=\"14.00\" fill=\"#000000\">class = NÃO</text>\n</g>\n<!-- 2&#45;&gt;8 -->\n<g id=\"edge8\" class=\"edge\">\n<title>2&#45;&gt;8</title>\n<path fill=\"none\" stroke=\"#000000\" d=\"M302.9284,-341.8796C309.3811,-333.0534 316.257,-323.6485 322.9113,-314.5466\"/>\n<polygon fill=\"#000000\" stroke=\"#000000\" points=\"325.8653,-316.4364 328.9417,-306.2981 320.2144,-312.3051 325.8653,-316.4364\"/>\n</g>\n<!-- 4 -->\n<g id=\"node5\" class=\"node\">\n<title>4</title>\n<polygon fill=\"none\" stroke=\"#000000\" points=\"101,-179.5 0,-179.5 0,-111.5 101,-111.5 101,-179.5\"/>\n<text text-anchor=\"middle\" x=\"50.5\" y=\"-164.3\" font-family=\"Helvetica,sans-Serif\" font-size=\"14.00\" fill=\"#000000\">entropy = 0.0</text>\n<text text-anchor=\"middle\" x=\"50.5\" y=\"-149.3\" font-family=\"Helvetica,sans-Serif\" font-size=\"14.00\" fill=\"#000000\">samples = 2</text>\n<text text-anchor=\"middle\" x=\"50.5\" y=\"-134.3\" font-family=\"Helvetica,sans-Serif\" font-size=\"14.00\" fill=\"#000000\">value = [0, 2]</text>\n<text text-anchor=\"middle\" x=\"50.5\" y=\"-119.3\" font-family=\"Helvetica,sans-Serif\" font-size=\"14.00\" fill=\"#000000\">class = SIM</text>\n</g>\n<!-- 3&#45;&gt;4 -->\n<g id=\"edge4\" class=\"edge\">\n<title>3&#45;&gt;4</title>\n<path fill=\"none\" stroke=\"#000000\" d=\"M138.9338,-222.8796C125.4872,-211.1138 110.8653,-198.3197 97.4549,-186.5855\"/>\n<polygon fill=\"#000000\" stroke=\"#000000\" points=\"99.5476,-183.766 89.7171,-179.8149 94.9381,-189.034 99.5476,-183.766\"/>\n</g>\n<!-- 5 -->\n<g id=\"node6\" class=\"node\">\n<title>5</title>\n<polygon fill=\"none\" stroke=\"#000000\" points=\"270,-187 119,-187 119,-104 270,-104 270,-187\"/>\n<text text-anchor=\"middle\" x=\"194.5\" y=\"-171.8\" font-family=\"Helvetica,sans-Serif\" font-size=\"14.00\" fill=\"#000000\">PRIORIDADE &lt;= 2.5</text>\n<text text-anchor=\"middle\" x=\"194.5\" y=\"-156.8\" font-family=\"Helvetica,sans-Serif\" font-size=\"14.00\" fill=\"#000000\">entropy = 0.918</text>\n<text text-anchor=\"middle\" x=\"194.5\" y=\"-141.8\" font-family=\"Helvetica,sans-Serif\" font-size=\"14.00\" fill=\"#000000\">samples = 3</text>\n<text text-anchor=\"middle\" x=\"194.5\" y=\"-126.8\" font-family=\"Helvetica,sans-Serif\" font-size=\"14.00\" fill=\"#000000\">value = [1, 2]</text>\n<text text-anchor=\"middle\" x=\"194.5\" y=\"-111.8\" font-family=\"Helvetica,sans-Serif\" font-size=\"14.00\" fill=\"#000000\">class = SIM</text>\n</g>\n<!-- 3&#45;&gt;5 -->\n<g id=\"edge5\" class=\"edge\">\n<title>3&#45;&gt;5</title>\n<path fill=\"none\" stroke=\"#000000\" d=\"M189.298,-222.8796C189.849,-214.6838 190.4335,-205.9891 191.0041,-197.5013\"/>\n<polygon fill=\"#000000\" stroke=\"#000000\" points=\"194.5113,-197.5103 191.69,-187.2981 187.5271,-197.0408 194.5113,-197.5103\"/>\n</g>\n<!-- 6 -->\n<g id=\"node7\" class=\"node\">\n<title>6</title>\n<polygon fill=\"none\" stroke=\"#000000\" points=\"205,-68 104,-68 104,0 205,0 205,-68\"/>\n<text text-anchor=\"middle\" x=\"154.5\" y=\"-52.8\" font-family=\"Helvetica,sans-Serif\" font-size=\"14.00\" fill=\"#000000\">entropy = 0.0</text>\n<text text-anchor=\"middle\" x=\"154.5\" y=\"-37.8\" font-family=\"Helvetica,sans-Serif\" font-size=\"14.00\" fill=\"#000000\">samples = 1</text>\n<text text-anchor=\"middle\" x=\"154.5\" y=\"-22.8\" font-family=\"Helvetica,sans-Serif\" font-size=\"14.00\" fill=\"#000000\">value = [1, 0]</text>\n<text text-anchor=\"middle\" x=\"154.5\" y=\"-7.8\" font-family=\"Helvetica,sans-Serif\" font-size=\"14.00\" fill=\"#000000\">class = NÃO</text>\n</g>\n<!-- 5&#45;&gt;6 -->\n<g id=\"edge6\" class=\"edge\">\n<title>5&#45;&gt;6</title>\n<path fill=\"none\" stroke=\"#000000\" d=\"M179.6055,-103.9815C176.5392,-95.4342 173.3013,-86.4086 170.2072,-77.7839\"/>\n<polygon fill=\"#000000\" stroke=\"#000000\" points=\"173.4631,-76.4944 166.7919,-68.2637 166.8743,-78.8582 173.4631,-76.4944\"/>\n</g>\n<!-- 7 -->\n<g id=\"node8\" class=\"node\">\n<title>7</title>\n<polygon fill=\"none\" stroke=\"#000000\" points=\"324,-68 223,-68 223,0 324,0 324,-68\"/>\n<text text-anchor=\"middle\" x=\"273.5\" y=\"-52.8\" font-family=\"Helvetica,sans-Serif\" font-size=\"14.00\" fill=\"#000000\">entropy = 0.0</text>\n<text text-anchor=\"middle\" x=\"273.5\" y=\"-37.8\" font-family=\"Helvetica,sans-Serif\" font-size=\"14.00\" fill=\"#000000\">samples = 2</text>\n<text text-anchor=\"middle\" x=\"273.5\" y=\"-22.8\" font-family=\"Helvetica,sans-Serif\" font-size=\"14.00\" fill=\"#000000\">value = [0, 2]</text>\n<text text-anchor=\"middle\" x=\"273.5\" y=\"-7.8\" font-family=\"Helvetica,sans-Serif\" font-size=\"14.00\" fill=\"#000000\">class = SIM</text>\n</g>\n<!-- 5&#45;&gt;7 -->\n<g id=\"edge7\" class=\"edge\">\n<title>5&#45;&gt;7</title>\n<path fill=\"none\" stroke=\"#000000\" d=\"M223.9167,-103.9815C230.2331,-95.0666 236.9182,-85.6313 243.2651,-76.6734\"/>\n<polygon fill=\"#000000\" stroke=\"#000000\" points=\"246.2981,-78.4466 249.2235,-68.2637 240.5864,-74.3998 246.2981,-78.4466\"/>\n</g>\n<!-- 9 -->\n<g id=\"node10\" class=\"node\">\n<title>9</title>\n<polygon fill=\"none\" stroke=\"#000000\" points=\"403,-179.5 302,-179.5 302,-111.5 403,-111.5 403,-179.5\"/>\n<text text-anchor=\"middle\" x=\"352.5\" y=\"-164.3\" font-family=\"Helvetica,sans-Serif\" font-size=\"14.00\" fill=\"#000000\">entropy = 0.0</text>\n<text text-anchor=\"middle\" x=\"352.5\" y=\"-149.3\" font-family=\"Helvetica,sans-Serif\" font-size=\"14.00\" fill=\"#000000\">samples = 6</text>\n<text text-anchor=\"middle\" x=\"352.5\" y=\"-134.3\" font-family=\"Helvetica,sans-Serif\" font-size=\"14.00\" fill=\"#000000\">value = [6, 0]</text>\n<text text-anchor=\"middle\" x=\"352.5\" y=\"-119.3\" font-family=\"Helvetica,sans-Serif\" font-size=\"14.00\" fill=\"#000000\">class = NÃO</text>\n</g>\n<!-- 8&#45;&gt;9 -->\n<g id=\"edge9\" class=\"edge\">\n<title>8&#45;&gt;9</title>\n<path fill=\"none\" stroke=\"#000000\" d=\"M357.0517,-222.8796C356.4243,-212.2134 355.7472,-200.7021 355.1119,-189.9015\"/>\n<polygon fill=\"#000000\" stroke=\"#000000\" points=\"358.5998,-189.5921 354.5185,-179.8149 351.6119,-190.0032 358.5998,-189.5921\"/>\n</g>\n<!-- 10 -->\n<g id=\"node11\" class=\"node\">\n<title>10</title>\n<polygon fill=\"none\" stroke=\"#000000\" points=\"572,-187 421,-187 421,-104 572,-104 572,-187\"/>\n<text text-anchor=\"middle\" x=\"496.5\" y=\"-171.8\" font-family=\"Helvetica,sans-Serif\" font-size=\"14.00\" fill=\"#000000\">PRIORIDADE &lt;= 2.5</text>\n<text text-anchor=\"middle\" x=\"496.5\" y=\"-156.8\" font-family=\"Helvetica,sans-Serif\" font-size=\"14.00\" fill=\"#000000\">entropy = 0.918</text>\n<text text-anchor=\"middle\" x=\"496.5\" y=\"-141.8\" font-family=\"Helvetica,sans-Serif\" font-size=\"14.00\" fill=\"#000000\">samples = 3</text>\n<text text-anchor=\"middle\" x=\"496.5\" y=\"-126.8\" font-family=\"Helvetica,sans-Serif\" font-size=\"14.00\" fill=\"#000000\">value = [2, 1]</text>\n<text text-anchor=\"middle\" x=\"496.5\" y=\"-111.8\" font-family=\"Helvetica,sans-Serif\" font-size=\"14.00\" fill=\"#000000\">class = NÃO</text>\n</g>\n<!-- 8&#45;&gt;10 -->\n<g id=\"edge10\" class=\"edge\">\n<title>8&#45;&gt;10</title>\n<path fill=\"none\" stroke=\"#000000\" d=\"M407.416,-222.8796C418.1993,-213.513 429.7329,-203.4948 440.8039,-193.8784\"/>\n<polygon fill=\"#000000\" stroke=\"#000000\" points=\"443.1251,-196.4982 448.3795,-187.2981 438.5347,-191.2134 443.1251,-196.4982\"/>\n</g>\n<!-- 11 -->\n<g id=\"node12\" class=\"node\">\n<title>11</title>\n<polygon fill=\"none\" stroke=\"#000000\" points=\"468,-68 367,-68 367,0 468,0 468,-68\"/>\n<text text-anchor=\"middle\" x=\"417.5\" y=\"-52.8\" font-family=\"Helvetica,sans-Serif\" font-size=\"14.00\" fill=\"#000000\">entropy = 0.0</text>\n<text text-anchor=\"middle\" x=\"417.5\" y=\"-37.8\" font-family=\"Helvetica,sans-Serif\" font-size=\"14.00\" fill=\"#000000\">samples = 2</text>\n<text text-anchor=\"middle\" x=\"417.5\" y=\"-22.8\" font-family=\"Helvetica,sans-Serif\" font-size=\"14.00\" fill=\"#000000\">value = [2, 0]</text>\n<text text-anchor=\"middle\" x=\"417.5\" y=\"-7.8\" font-family=\"Helvetica,sans-Serif\" font-size=\"14.00\" fill=\"#000000\">class = NÃO</text>\n</g>\n<!-- 10&#45;&gt;11 -->\n<g id=\"edge11\" class=\"edge\">\n<title>10&#45;&gt;11</title>\n<path fill=\"none\" stroke=\"#000000\" d=\"M467.0833,-103.9815C460.7669,-95.0666 454.0818,-85.6313 447.7349,-76.6734\"/>\n<polygon fill=\"#000000\" stroke=\"#000000\" points=\"450.4136,-74.3998 441.7765,-68.2637 444.7019,-78.4466 450.4136,-74.3998\"/>\n</g>\n<!-- 12 -->\n<g id=\"node13\" class=\"node\">\n<title>12</title>\n<polygon fill=\"none\" stroke=\"#000000\" points=\"587,-68 486,-68 486,0 587,0 587,-68\"/>\n<text text-anchor=\"middle\" x=\"536.5\" y=\"-52.8\" font-family=\"Helvetica,sans-Serif\" font-size=\"14.00\" fill=\"#000000\">entropy = 0.0</text>\n<text text-anchor=\"middle\" x=\"536.5\" y=\"-37.8\" font-family=\"Helvetica,sans-Serif\" font-size=\"14.00\" fill=\"#000000\">samples = 1</text>\n<text text-anchor=\"middle\" x=\"536.5\" y=\"-22.8\" font-family=\"Helvetica,sans-Serif\" font-size=\"14.00\" fill=\"#000000\">value = [0, 1]</text>\n<text text-anchor=\"middle\" x=\"536.5\" y=\"-7.8\" font-family=\"Helvetica,sans-Serif\" font-size=\"14.00\" fill=\"#000000\">class = SIM</text>\n</g>\n<!-- 10&#45;&gt;12 -->\n<g id=\"edge12\" class=\"edge\">\n<title>10&#45;&gt;12</title>\n<path fill=\"none\" stroke=\"#000000\" d=\"M511.3945,-103.9815C514.4608,-95.4342 517.6987,-86.4086 520.7928,-77.7839\"/>\n<polygon fill=\"#000000\" stroke=\"#000000\" points=\"524.1257,-78.8582 524.2081,-68.2637 517.5369,-76.4944 524.1257,-78.8582\"/>\n</g>\n</g>\n</svg>\n"
          },
          "metadata": {}
        }
      ]
    },
    {
      "cell_type": "markdown",
      "source": [
        "BASE DE TESTES PROCESSADA **ERRADO**"
      ],
      "metadata": {
        "id": "4CkZ3i4OAGoA"
      }
    },
    {
      "cell_type": "code",
      "source": [
        "total = x_test.shape[0]\n",
        "\n",
        "for n in range(total):\n",
        "  teste_personalizado = np.reshape(np.array(x_test[n]),(1,3))\n",
        "  if not(int(np.rint(model.predict(teste_personalizado))) == y_test[n]):\n",
        "    print(\"Registro processado errado: \\n\")\n",
        "    print(x_test[n], '=', y_test[n], end=\" -> IA \")\n",
        "    print([int(np.rint(model.predict(teste_personalizado)))], end=\" -> TREE \")\n",
        "    print([int(np.rint(model_tree.predict(teste_personalizado)))])"
      ],
      "metadata": {
        "id": "cVk7Ba3M-DXe"
      },
      "execution_count": null,
      "outputs": []
    },
    {
      "cell_type": "code",
      "source": [
        "teste_personalizado = np.reshape(np.array([2,1,1]),(1,3)) #MUDE ISSO PARA TESTAR\n",
        "\n",
        "print(class_names[int(np.rint(model_tree.predict(teste_personalizado)))])\n",
        "print(class_names[int(np.rint(model.predict(teste_personalizado)))])\n",
        "print(int(np.rint(model.predict(teste_personalizado))))"
      ],
      "metadata": {
        "colab": {
          "base_uri": "https://localhost:8080/"
        },
        "id": "7uLBChxn8XXg",
        "outputId": "44432786-1a5d-4381-a63f-a12b2e85121f"
      },
      "execution_count": null,
      "outputs": [
        {
          "output_type": "stream",
          "name": "stdout",
          "text": [
            "SIM\n",
            "SIM\n",
            "1\n"
          ]
        }
      ]
    }
  ]
}